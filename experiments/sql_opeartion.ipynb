{
 "cells": [
  {
   "cell_type": "code",
   "execution_count": 158,
   "metadata": {},
   "outputs": [
    {
     "name": "stdout",
     "output_type": "stream",
     "text": [
      "('Microsoft SQL Server 2022 (RTM) - 16.0.1000.6 (X64) \\n\\tOct  8 2022 05:58:25 \\n\\tCopyright (C) 2022 Microsoft Corporation\\n\\tEnterprise Evaluation Edition (64-bit) on Windows 10 Home Single Language 10.0 <X64> (Build 26100: ) (Hypervisor)\\n',)\n"
     ]
    }
   ],
   "source": [
    "import pyodbc\n",
    "\n",
    "server = 'localhost'\n",
    "database = 'AdventureWorks'\n",
    "\n",
    "conn = pyodbc.connect(f'DRIVER=ODBC Driver 18 for SQL Server;SERVER={server};DATABASE={database};Trusted_Connection=yes;Encrypt=no;')\n",
    "\n",
    "cursor = conn.cursor()\n",
    "cursor.execute('SELECT @@VERSION')\n",
    "row = cursor.fetchone()\n",
    "print(row)\n"
   ]
  },
  {
   "cell_type": "code",
   "execution_count": 159,
   "metadata": {},
   "outputs": [
    {
     "name": "stdout",
     "output_type": "stream",
     "text": [
      "(31,)\n"
     ]
    }
   ],
   "source": [
    "cursor.execute(\"SELECT COUNT(*) AS TableCount FROM information_schema.tables WHERE table_type = 'BASE TABLE';\")\n",
    "row = cursor.fetchone()\n",
    "print(row)"
   ]
  },
  {
   "cell_type": "code",
   "execution_count": 160,
   "metadata": {},
   "outputs": [],
   "source": [
    "conn_str = f'DRIVER={{ODBC Driver 18 for SQL Server}};SERVER=localhost;DATABASE=AdventureWorks;'"
   ]
  },
  {
   "cell_type": "code",
   "execution_count": 161,
   "metadata": {},
   "outputs": [],
   "source": [
    "from langchain_groq import ChatGroq\n",
    "from langchain_community.agent_toolkits import SQLDatabaseToolkit\n",
    "from langchain_community.utilities.sql_database import SQLDatabase"
   ]
  },
  {
   "cell_type": "code",
   "execution_count": 162,
   "metadata": {},
   "outputs": [],
   "source": [
    "uri = 'mssql+pyodbc://localhost/TPMS?driver=ODBC+Driver+18+for+SQL+Server&TrustServerCertificate=yes&Encrypt=no'\n",
    "db = SQLDatabase.from_uri(uri)\n",
    "\n",
    "llm = ChatGroq(model=\"llama-3.1-8b-instant\", api_key=\"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\")\n",
    "\n",
    "toolkit = SQLDatabaseToolkit(db=db, llm=llm)"
   ]
  },
  {
   "cell_type": "code",
   "execution_count": 163,
   "metadata": {},
   "outputs": [
    {
     "data": {
      "text/plain": [
       "['pc_work_group',\n",
       " 'pr_ADEO_TaskMana_Data_Delivera',\n",
       " 'pr_ADEO_TaskMana_Data_Mileston',\n",
       " 'pr_ADEO_TaskMana_Data_RiskRegi',\n",
       " 'pr_Data_Comments']"
      ]
     },
     "execution_count": 163,
     "metadata": {},
     "output_type": "execute_result"
    }
   ],
   "source": [
    "db.get_usable_table_names()"
   ]
  },
  {
   "cell_type": "code",
   "execution_count": 164,
   "metadata": {},
   "outputs": [],
   "source": [
    "db_info = db.get_table_info()"
   ]
  },
  {
   "cell_type": "code",
   "execution_count": 165,
   "metadata": {},
   "outputs": [],
   "source": [
    "query = \"What are all the comments updated in the Gamma project\""
   ]
  },
  {
   "cell_type": "code",
   "execution_count": 166,
   "metadata": {},
   "outputs": [],
   "source": [
    "prompt = f\"\"\"\n",
    "You are a MS SQL server expert, Your task is to create the SQL query for the users question using the given tables schema\n",
    "Database tabels schema:\n",
    "{db_info}\n",
    "User's query: {query}\n",
    "Return only SQL query without any explanations and do not keep ```sql in the response\n",
    "\"\"\""
   ]
  },
  {
   "cell_type": "code",
   "execution_count": 167,
   "metadata": {},
   "outputs": [
    {
     "data": {
      "text/plain": [
       "\"\\nYou are a MS SQL server expert, Your task is to create the SQL query for the users question using the given tables schema\\nDatabase tabels schema:\\n\\nCREATE TABLE [pr_ADEO_TaskMana_Data_Delivera] (\\n\\t[ID] VARCHAR(256) COLLATE SQL_Latin1_General_CP1_CI_AS NOT NULL, \\n\\t[Name] VARCHAR(256) COLLATE SQL_Latin1_General_CP1_CI_AS NULL, \\n\\t[MilestoneID] VARCHAR(256) COLLATE SQL_Latin1_General_CP1_CI_AS NULL, \\n\\t[StartDateTime] DATETIME NULL, \\n\\t[EndDateTime] DATETIME NULL, \\n\\t[pySelected] VARCHAR(5) COLLATE SQL_Latin1_General_CP1_CI_AS NULL, \\n\\t[Status] VARCHAR(256) COLLATE SQL_Latin1_General_CP1_CI_AS NULL, \\n\\tCONSTRAINT [PK__pr_ADEO___3214EC279CF9DC25] PRIMARY KEY ([ID]), \\n\\tCONSTRAINT [FK__pr_ADEO_T__Miles__4222D4EF] FOREIGN KEY([MilestoneID]) REFERENCES [pr_ADEO_TaskMana_Data_Mileston] ([ID])\\n)\\n\\n/*\\n3 rows from pr_ADEO_TaskMana_Data_Delivera table:\\nID\\tName\\tMilestoneID\\tStartDateTime\\tEndDateTime\\tpySelected\\tStatus\\nD001\\tDeliverable 1\\tM001\\t2023-01-20 09:00:00\\t2023-02-10 17:00:00\\tYes\\tDelivered\\nD002\\tDeliverable 2\\tM002\\t2023-03-01 10:00:00\\t2023-07-15 16:00:00\\tYes\\tDelivered\\nD003\\tDeliverable 3\\tM003\\t2023-03-15 08:30:00\\t2023-03-30 17:00:00\\tNo\\tPending\\n*/\\n\\n\\nCREATE TABLE [pr_ADEO_TaskMana_Data_Mileston] (\\n\\t[ID] VARCHAR(256) COLLATE SQL_Latin1_General_CP1_CI_AS NOT NULL, \\n\\t[ProjectID] VARCHAR(256) COLLATE SQL_Latin1_General_CP1_CI_AS NOT NULL, \\n\\t[Name] VARCHAR(256) COLLATE SQL_Latin1_General_CP1_CI_AS NULL, \\n\\t[StartDateTime] DATETIME NULL, \\n\\t[EndDateTime] DATETIME NULL, \\n\\t[ProgressRate] DECIMAL(10, 2) NULL, \\n\\t[Status] VARCHAR(256) COLLATE SQL_Latin1_General_CP1_CI_AS NULL, \\n\\t[ActualCompletionDateTime] DATETIME NULL, \\n\\t[DaysTaken] DECIMAL(10, 2) NULL, \\n\\t[Style] VARCHAR(256) COLLATE SQL_Latin1_General_CP1_CI_AS NULL, \\n\\t[pySelected] VARCHAR(5) COLLATE SQL_Latin1_General_CP1_CI_AS NULL, \\n\\tCONSTRAINT [PK__pr_ADEO___3214EC27DF39D023] PRIMARY KEY ([ID]), \\n\\tCONSTRAINT [FK__pr_ADEO_T__Proje__3F466844] FOREIGN KEY([ProjectID]) REFERENCES pc_work_group ([pzInsKey])\\n)\\n\\n/*\\n3 rows from pr_ADEO_TaskMana_Data_Mileston table:\\nID\\tProjectID\\tName\\tStartDateTime\\tEndDateTime\\tProgressRate\\tStatus\\tActualCompletionDateTime\\tDaysTaken\\tStyle\\tpySelected\\nM001\\tPC001\\tInitiation Phase\\t2023-01-15 09:00:00\\t2023-02-15 17:00:00\\t100.00\\tCompleted\\t2023-02-15 17:00:00\\t31.00\\tStandard\\tYes\\nM002\\tPC002\\tImplementation Phase\\t2023-02-01 10:00:00\\t2023-08-01 18:00:00\\t100.00\\tCompleted\\t2023-08-01 18:00:00\\t182.00\\tStandard\\tYes\\nM003\\tPC003\\tPlanning Phase\\t2023-03-01 09:30:00\\t2023-04-01 17:30:00\\t80.00\\tInProgress\\tNone\\t30.00\\tStandard\\tNo\\n*/\\n\\n\\nCREATE TABLE [pr_ADEO_TaskMana_Data_RiskRegi] (\\n\\t[ProjectID] VARCHAR(256) COLLATE SQL_Latin1_General_CP1_CI_AS NOT NULL, \\n\\t[RiskID] VARCHAR(256) COLLATE SQL_Latin1_General_CP1_CI_AS NOT NULL, \\n\\t[RiskAuthor] VARCHAR(256) COLLATE SQL_Latin1_General_CP1_CI_AS NULL, \\n\\t[RegisterDate] DATETIME NULL, \\n\\t[RiskCategory] VARCHAR(256) COLLATE SQL_Latin1_General_CP1_CI_AS NULL, \\n\\t[RiskDescription] VARCHAR(max) COLLATE SQL_Latin1_General_CP1_CI_AS NULL, \\n\\t[ProbabilityImpact] VARCHAR(256) COLLATE SQL_Latin1_General_CP1_CI_AS NULL, \\n\\t[RiskStatus] VARCHAR(256) COLLATE SQL_Latin1_General_CP1_CI_AS NULL, \\n\\t[RiskOwner] VARCHAR(256) COLLATE SQL_Latin1_General_CP1_CI_AS NULL, \\n\\t[RiskTitle] VARCHAR(1024) COLLATE SQL_Latin1_General_CP1_CI_AS NULL, \\n\\t[Probability] VARCHAR(256) COLLATE SQL_Latin1_General_CP1_CI_AS NULL, \\n\\t[Impact] VARCHAR(256) COLLATE SQL_Latin1_General_CP1_CI_AS NULL, \\n\\t[Assessment] DECIMAL(10, 2) NULL, \\n\\t[Mitigation] VARCHAR(max) COLLATE SQL_Latin1_General_CP1_CI_AS NULL, \\n\\t[Triggers] VARCHAR(max) COLLATE SQL_Latin1_General_CP1_CI_AS NULL, \\n\\t[Contingent] VARCHAR(max) COLLATE SQL_Latin1_General_CP1_CI_AS NULL, \\n\\t[Milestone] VARCHAR(256) COLLATE SQL_Latin1_General_CP1_CI_AS NULL, \\n\\t[Sector] VARCHAR(256) COLLATE SQL_Latin1_General_CP1_CI_AS NULL, \\n\\t[Comments] VARCHAR(256) COLLATE SQL_Latin1_General_CP1_CI_AS NULL, \\n\\t[MilestoneName] VARCHAR(32) COLLATE SQL_Latin1_General_CP1_CI_AS NULL, \\n\\t[pyOwner] VARCHAR(32) COLLATE SQL_Latin1_General_CP1_CI_AS NULL, \\n\\tCONSTRAINT [PK__pr_ADEO___022F88ED6161B2DD] PRIMARY KEY ([ProjectID], [RiskID]), \\n\\tCONSTRAINT [FK__pr_ADEO_T__Miles__45F365D3] FOREIGN KEY([Milestone]) REFERENCES [pr_ADEO_TaskMana_Data_Mileston] ([ID]), \\n\\tCONSTRAINT [FK__pr_ADEO_T__Proje__44FF419A] FOREIGN KEY([ProjectID]) REFERENCES pc_work_group ([pzInsKey])\\n)\\n\\n/*\\n3 rows from pr_ADEO_TaskMana_Data_RiskRegi table:\\nProjectID\\tRiskID\\tRiskAuthor\\tRegisterDate\\tRiskCategory\\tRiskDescription\\tProbabilityImpact\\tRiskStatus\\tRiskOwner\\tRiskTitle\\tProbability\\tImpact\\tAssessment\\tMitigation\\tTriggers\\tContingent\\tMilestone\\tSector\\tComments\\tMilestoneName\\tpyOwner\\nPC001\\tR001\\tAuthor01\\t2023-02-01 09:00:00\\tFinancial\\tRisk of exceeding budget.\\tHigh\\tOpen\\tManager01\\tBudget Overrun Risk\\t70%\\tHigh\\t7.00\\tReallocate funds.\\tBudget trends.\\tEmergency budget.\\tM001\\tTransport\\tClose monitoring.\\tInitiation Phase\\tOwner01\\nPC002\\tR002\\tAuthor02\\t2023-03-15 10:00:00\\tOperational\\tDelay in supply chain.\\tMedium\\tResolved\\tManager02\\tSupply Chain Delay\\t50%\\tMedium\\t5.00\\tAlternate suppliers.\\tLogistics.\\tContract buffers.\\tM002\\tHealth\\tSupplier review.\\tImplementation Phase\\tOwner02\\nPC003\\tR003\\tAuthor03\\t2023-04-01 11:00:00\\tTechnical\\tSystem compatibility issues.\\tHigh\\tPending\\tManager03\\tTechnical Compatibility\\t80%\\tHigh\\t8.00\\tUpgrade systems.\\tTech assessment.\\tFallback solutions.\\tM003\\tTechnology\\tEvaluate options.\\tPlanning Phase\\tOwner03\\n*/\\n\\n\\nCREATE TABLE [pr_Data_Comments] (\\n\\t[pyGUID] VARCHAR(128) COLLATE SQL_Latin1_General_CP1_CI_AS NOT NULL, \\n\\t[pxRefObjectKey] VARCHAR(256) COLLATE SQL_Latin1_General_CP1_CI_AS NOT NULL, \\n\\t[CommentDateTime] DATETIME NULL, \\n\\t[BusinessID] VARCHAR(256) COLLATE SQL_Latin1_General_CP1_CI_AS NULL, \\n\\t[Department] VARCHAR(256) COLLATE SQL_Latin1_General_CP1_CI_AS NULL, \\n\\t[EmailID] VARCHAR(256) COLLATE SQL_Latin1_General_CP1_CI_AS NULL, \\n\\t[ManagerEmail] VARCHAR(256) COLLATE SQL_Latin1_General_CP1_CI_AS NULL, \\n\\t[ManagerName] VARCHAR(256) COLLATE SQL_Latin1_General_CP1_CI_AS NULL, \\n\\t[pxCommitDateTime] DATETIME NULL, \\n\\t[pxCreateDateTime] DATETIME NULL, \\n\\t[SelectedOperator] VARCHAR(256) COLLATE SQL_Latin1_General_CP1_CI_AS NULL, \\n\\t[Title] VARCHAR(256) COLLATE SQL_Latin1_General_CP1_CI_AS NULL, \\n\\t[UserName] VARCHAR(256) COLLATE SQL_Latin1_General_CP1_CI_AS NULL, \\n\\t[pyDescription] VARCHAR(2000) COLLATE SQL_Latin1_General_CP1_CI_AS NULL, \\n\\tCONSTRAINT [PK__pr_Data___0B7DCEBAF6AEC94A] PRIMARY KEY ([pyGUID]), \\n\\tCONSTRAINT [FK__pr_Data_C__pxRef__48CFD27E] FOREIGN KEY([pxRefObjectKey]) REFERENCES pc_work_group ([pzInsKey])\\n)\\n\\n/*\\n3 rows from pr_Data_Comments table:\\npyGUID\\tpxRefObjectKey\\tCommentDateTime\\tBusinessID\\tDepartment\\tEmailID\\tManagerEmail\\tManagerName\\tpxCommitDateTime\\tpxCreateDateTime\\tSelectedOperator\\tTitle\\tUserName\\tpyDescription\\nCMT001\\tPC001\\t2023-02-20 14:30:00\\tBIZ001\\tEngineering\\tuser1@example.com\\tmanager1@example.com\\tManager Alpha\\t2023-02-20 15:00:00\\t2023-02-20 14:30:00\\tOperator1\\tBudget Allocation\\tUser01\\tBudget allocation confirmed.\\nCMT002\\tPC002\\t2023-04-10 13:15:00\\tBIZ002\\tMedical\\tuser2@example.com\\tmanager2@example.com\\tManager Beta\\t2023-04-10 14:00:00\\t2023-04-10 13:15:00\\tOperator2\\tSupply Chain Discussion\\tUser02\\tSupply chain delays addressed.\\nCMT003\\tPC003\\t2023-05-05 11:20:00\\tBIZ003\\tIT\\tuser3@example.com\\tmanager3@example.com\\tManager Gamma\\t2023-05-05 12:00:00\\t2023-05-05 11:20:00\\tOperator3\\tTech Compatibility\\tUser03\\tCompatibility concerns logged.\\n*/\\n\\n\\nCREATE TABLE pc_work_group (\\n\\t[pzInsKey] VARCHAR(256) COLLATE SQL_Latin1_General_CP1_CI_AS NOT NULL, \\n\\t[pxObjClass] VARCHAR(96) COLLATE SQL_Latin1_General_CP1_CI_AS NULL, \\n\\t[pyID] VARCHAR(32) COLLATE SQL_Latin1_General_CP1_CI_AS NULL, \\n\\t[pyGroupStatus] VARCHAR(64) COLLATE SQL_Latin1_General_CP1_CI_AS NULL, \\n\\t[pyLabel] VARCHAR(64) COLLATE SQL_Latin1_General_CP1_CI_AS NULL, \\n\\t[pyResolvedTimestamp] DATETIME NULL, \\n\\t[pyResolvedUserID] VARCHAR(128) COLLATE SQL_Latin1_General_CP1_CI_AS NULL, \\n\\t[pyStatusWork] VARCHAR(32) COLLATE SQL_Latin1_General_CP1_CI_AS NULL, \\n\\t[ProjectType] VARCHAR(32) COLLATE SQL_Latin1_General_CP1_CI_AS NULL, \\n\\t[CompletionRate] DECIMAL(10, 2) NULL, \\n\\t[PlannedBudget] DECIMAL(18, 2) NULL, \\n\\t[ActualBudget] DECIMAL(18, 2) NULL, \\n\\t[StartDateTime] DATETIME NULL, \\n\\t[EndDateTime] DATETIME NULL, \\n\\t[KPIID] VARCHAR(32) COLLATE SQL_Latin1_General_CP1_CI_AS NULL, \\n\\t[KPITitle] VARCHAR(32) COLLATE SQL_Latin1_General_CP1_CI_AS NULL, \\n\\t[ClosingReason] VARCHAR(32) COLLATE SQL_Latin1_General_CP1_CI_AS NULL, \\n\\t[ProjectComments] VARCHAR(512) COLLATE SQL_Latin1_General_CP1_CI_AS NULL, \\n\\t[RMRemarks] VARCHAR(256) COLLATE SQL_Latin1_General_CP1_CI_AS NULL, \\n\\t[IsDROProject] VARCHAR(5) COLLATE SQL_Latin1_General_CP1_CI_AS NULL, \\n\\t[DGTitle] VARCHAR(256) COLLATE SQL_Latin1_General_CP1_CI_AS NULL, \\n\\t[EDTitle] VARCHAR(256) COLLATE SQL_Latin1_General_CP1_CI_AS NULL, \\n\\t[Sector] VARCHAR(256) COLLATE SQL_Latin1_General_CP1_CI_AS NULL, \\n\\t[SGTitle] VARCHAR(256) COLLATE SQL_Latin1_General_CP1_CI_AS NULL, \\n\\t[UserDepartment] VARCHAR(256) COLLATE SQL_Latin1_General_CP1_CI_AS NULL, \\n\\t[Classification] VARCHAR(32) COLLATE SQL_Latin1_General_CP1_CI_AS NULL, \\n\\tCONSTRAINT [PK__pc_work___73F3D530D6F01700] PRIMARY KEY ([pzInsKey])\\n)\\n\\n/*\\n3 rows from pc_work_group table:\\npzInsKey\\tpxObjClass\\tpyID\\tpyGroupStatus\\tpyLabel\\tpyResolvedTimestamp\\tpyResolvedUserID\\tpyStatusWork\\tProjectType\\tCompletionRate\\tPlannedBudget\\tActualBudget\\tStartDateTime\\tEndDateTime\\tKPIID\\tKPITitle\\tClosingReason\\tProjectComments\\tRMRemarks\\tIsDROProject\\tDGTitle\\tEDTitle\\tSector\\tSGTitle\\tUserDepartment\\tClassification\\nPC001\\tProject.Class1\\tP001\\tActive\\tProject Alpha\\tNone\\tUser01\\tInProgress\\tInfrastructure\\t85.50\\t1500000.00\\t1450000.00\\t2023-01-15 09:00:00\\t2023-12-31 18:00:00\\tKPI001\\tOn-Time Delivery\\tNone\\tProject progressing as planned.\\tGood Progress\\tYes\\tDG Alpha\\tED Bravo\\tTransport\\tSG Charlie\\tEngineering\\tADEO\\nPC002\\tProject.Class2\\tP002\\tCompleted\\tProject Beta\\t2023-11-01 15:00:00\\tUser02\\tResolved\\tHealthcare\\t100.00\\t2000000.00\\t1950000.00\\t2023-02-01 10:00:00\\t2023-10-30 18:00:00\\tKPI002\\tBudget Efficiency\\tScope Completed\\tSuccessfully completed.\\tExcellent Work\\tNo\\tDG Delta\\tED Echo\\tHealth\\tSG Foxtrot\\tMedical\\tADEO\\nPC003\\tProject.Class3\\tP003\\tOnHold\\tProject Gamma\\tNone\\tUser03\\tPending\\tIT\\t45.00\\t1000000.00\\t450000.00\\t2023-03-01 09:30:00\\tNone\\tKPI003\\tInnovation Impact\\tAwaiting Approval\\tTechnical challenges identified.\\tNeeds Review\\tYes\\tDG Golf\\tED Hotel\\tTechnology\\tSG India\\tIT\\tInternal\\n*/\\nUser's query: What are all the comments updated in the Gamma project\\nReturn only SQL query without any explanations and do not keep ```sql in the response\\n\""
      ]
     },
     "execution_count": 167,
     "metadata": {},
     "output_type": "execute_result"
    }
   ],
   "source": [
    "prompt"
   ]
  },
  {
   "cell_type": "code",
   "execution_count": 172,
   "metadata": {},
   "outputs": [],
   "source": [
    "response = llm.invoke(prompt)"
   ]
  },
  {
   "cell_type": "code",
   "execution_count": 173,
   "metadata": {},
   "outputs": [
    {
     "name": "stdout",
     "output_type": "stream",
     "text": [
      "SELECT p.pzInsKey, c.pyDescription \n",
      "FROM pc_work_group p \n",
      "INNER JOIN pr_Data_Comments c ON p.pzInsKey = c.pxRefObjectKey \n",
      "WHERE p.pyLabel = 'Project Gamma'\n"
     ]
    }
   ],
   "source": [
    "print(response.content)"
   ]
  },
  {
   "cell_type": "code",
   "execution_count": 156,
   "metadata": {},
   "outputs": [],
   "source": [
    "query_response = db.run(response.content, include_columns=True)"
   ]
  },
  {
   "cell_type": "code",
   "execution_count": 157,
   "metadata": {},
   "outputs": [
    {
     "data": {
      "text/plain": [
       "\"[{'pyDescription': 'Compatibility concerns logged.'}]\""
      ]
     },
     "execution_count": 157,
     "metadata": {},
     "output_type": "execute_result"
    }
   ],
   "source": [
    "query_response"
   ]
  },
  {
   "cell_type": "code",
   "execution_count": 126,
   "metadata": {},
   "outputs": [],
   "source": [
    "response_prompt = f\"\"\" \n",
    "You are AI expert tasked for create a natural response message from the SQL query response for the users question.\n",
    "The response must be concise\n",
    "The SQL query response is: {query_response}\n",
    "The user question is: {query}\n",
    "\"\"\""
   ]
  },
  {
   "cell_type": "code",
   "execution_count": 127,
   "metadata": {},
   "outputs": [
    {
     "name": "stdout",
     "output_type": "stream",
     "text": [
      "Here's a concise natural response based on the SQL query response and the user's question:\n",
      "\n",
      "\"Compatibility concerns have been logged in the Gamma project.\n"
     ]
    }
   ],
   "source": [
    "message = llm.invoke(response_prompt).content\n",
    "print(message)"
   ]
  },
  {
   "cell_type": "code",
   "execution_count": null,
   "metadata": {},
   "outputs": [
    {
     "ename": "SyntaxError",
     "evalue": "invalid syntax (1657033885.py, line 1)",
     "output_type": "error",
     "traceback": [
      "\u001b[1;36m  Cell \u001b[1;32mIn[128], line 1\u001b[1;36m\u001b[0m\n\u001b[1;33m    1. Project updates, comments table\u001b[0m\n\u001b[1;37m       ^\u001b[0m\n\u001b[1;31mSyntaxError\u001b[0m\u001b[1;31m:\u001b[0m invalid syntax\n"
     ]
    }
   ],
   "source": [
    "1. Project updates, comments table\n",
    "2. Status of the project\n",
    "3. Base 64 to img and pdf\n",
    "4. Project category \n",
    "5. Project closing comments and details"
   ]
  },
  {
   "cell_type": "code",
   "execution_count": null,
   "metadata": {},
   "outputs": [
    {
     "name": "stdout",
     "output_type": "stream",
     "text": [
      "Warning: Decoded data is binary and has been saved to the output file.\n"
     ]
    }
   ],
   "source": [
    "import base64\n",
    "import re\n",
    "\n",
    "def is_base64(string):\n",
    "    \"\"\"\n",
    "    Checks if a string is a valid Base64-encoded string.\n",
    "\n",
    "    Parameters:\n",
    "        string (str): The string to validate.\n",
    "\n",
    "    Returns:\n",
    "        bool: True if the string is valid Base64, False otherwise.\n",
    "    \"\"\"\n",
    "    base64_pattern = re.compile(r'^[A-Za-z0-9+/=\\s]+$')\n",
    "    return base64_pattern.fullmatch(string) is not None\n",
    "\n",
    "def extract_text_from_base64(base64_file_path, output_file_path=None):\n",
    "    try:\n",
    "        with open(base64_file_path, 'r') as file:\n",
    "            base64_data = file.read()\n",
    "\n",
    "        if not is_base64(base64_data.strip()):\n",
    "            print(\"Error: The file does not contain valid Base64-encoded text.\")\n",
    "            return None\n",
    "\n",
    "        decoded_data = base64.b64decode(base64_data)\n",
    "\n",
    "        try:\n",
    "            decoded_text = decoded_data.decode('utf-8')\n",
    "            if output_file_path:\n",
    "                with open(output_file_path, 'w') as output_file:\n",
    "                    output_file.write(decoded_text)\n",
    "            return decoded_text\n",
    "        except UnicodeDecodeError:\n",
    "            if output_file_path:\n",
    "                with open(output_file_path, 'wb') as output_file:\n",
    "                    output_file.write(decoded_data)\n",
    "            print(\"Warning: Decoded data is binary and has been saved to the output file.\")\n",
    "            return None\n",
    "\n",
    "    except FileNotFoundError:\n",
    "        print(f\"Error: The file '{base64_file_path}' does not exist.\")\n",
    "    except (base64.binascii.Error, ValueError) as e:\n",
    "        print(f\"Error: Failed to decode Base64 content. Details: {e}\")\n",
    "\n",
    "# Example usage\n",
    "if __name__ == \"__main__\":\n",
    "    input_file = \"base64_input.txt\"\n",
    "    output_file = \"decoded_output.png\" \n",
    "\n",
    "    text = extract_text_from_base64(input_file, output_file)\n",
    "    if text:\n",
    "        print(\"Decoded text:\")\n",
    "        print(text)\n"
   ]
  },
  {
   "cell_type": "code",
   "execution_count": null,
   "metadata": {},
   "outputs": [],
   "source": []
  }
 ],
 "metadata": {
  "kernelspec": {
   "display_name": "Text2SQL",
   "language": "python",
   "name": "python3"
  },
  "language_info": {
   "codemirror_mode": {
    "name": "ipython",
    "version": 3
   },
   "file_extension": ".py",
   "mimetype": "text/x-python",
   "name": "python",
   "nbconvert_exporter": "python",
   "pygments_lexer": "ipython3",
   "version": "3.11.10"
  }
 },
 "nbformat": 4,
 "nbformat_minor": 2
}
